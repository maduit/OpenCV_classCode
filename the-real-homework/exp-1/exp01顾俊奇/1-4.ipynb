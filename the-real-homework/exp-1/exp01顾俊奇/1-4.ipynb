{
 "cells": [
  {
   "cell_type": "code",
   "execution_count": 1,
   "metadata": {},
   "outputs": [
    {
     "ename": "TypeError",
     "evalue": "'NoneType' object is not subscriptable",
     "output_type": "error",
     "traceback": [
      "\u001b[1;31m---------------------------------------------------------------------------\u001b[0m",
      "\u001b[1;31mTypeError\u001b[0m                                 Traceback (most recent call last)",
      "\u001b[1;32me:\\homework\\the-real-homework\\exp-1\\exp01顾俊奇\\1-4.ipynb Cell 1\u001b[0m in \u001b[0;36m<cell line: 6>\u001b[1;34m()\u001b[0m\n\u001b[0;32m      <a href='vscode-notebook-cell:/e%3A/homework/the-real-homework/exp-1/exp01%E9%A1%BE%E4%BF%8A%E5%A5%87/1-4.ipynb#W0sZmlsZQ%3D%3D?line=2'>3</a>\u001b[0m \u001b[39mimport\u001b[39;00m \u001b[39mcv2\u001b[39;00m\n\u001b[0;32m      <a href='vscode-notebook-cell:/e%3A/homework/the-real-homework/exp-1/exp01%E9%A1%BE%E4%BF%8A%E5%A5%87/1-4.ipynb#W0sZmlsZQ%3D%3D?line=4'>5</a>\u001b[0m img\u001b[39m=\u001b[39mcv2\u001b[39m.\u001b[39mimread(\u001b[39m'\u001b[39m\u001b[39mtest.jpg\u001b[39m\u001b[39m'\u001b[39m)\n\u001b[1;32m----> <a href='vscode-notebook-cell:/e%3A/homework/the-real-homework/exp-1/exp01%E9%A1%BE%E4%BF%8A%E5%A5%87/1-4.ipynb#W0sZmlsZQ%3D%3D?line=5'>6</a>\u001b[0m img2\u001b[39m=\u001b[39mimg[:,:,::\u001b[39m-\u001b[39;49m\u001b[39m1\u001b[39;49m]\n\u001b[0;32m      <a href='vscode-notebook-cell:/e%3A/homework/the-real-homework/exp-1/exp01%E9%A1%BE%E4%BF%8A%E5%A5%87/1-4.ipynb#W0sZmlsZQ%3D%3D?line=6'>7</a>\u001b[0m plt\u001b[39m.\u001b[39mimshow(img)\n",
      "\u001b[1;31mTypeError\u001b[0m: 'NoneType' object is not subscriptable"
     ]
    }
   ],
   "source": [
    "from matplotlib import pyplot as plt\n",
    "import numpy as np\n",
    "import cv2\n",
    "\n",
    "img=cv2.imread('test.jpg')\n",
    "img2=img[:,:,::-1]\n",
    "plt.imshow(img)"
   ]
  }
 ],
 "metadata": {
  "kernelspec": {
   "display_name": "Python 3.9.12 ('base')",
   "language": "python",
   "name": "python3"
  },
  "language_info": {
   "codemirror_mode": {
    "name": "ipython",
    "version": 3
   },
   "file_extension": ".py",
   "mimetype": "text/x-python",
   "name": "python",
   "nbconvert_exporter": "python",
   "pygments_lexer": "ipython3",
   "version": "3.9.12"
  },
  "orig_nbformat": 4,
  "vscode": {
   "interpreter": {
    "hash": "77be4c37fd67d7eb9fc5ab1113d48db0c584890387b7aa45a3821e3fc1a1b142"
   }
  }
 },
 "nbformat": 4,
 "nbformat_minor": 2
}
